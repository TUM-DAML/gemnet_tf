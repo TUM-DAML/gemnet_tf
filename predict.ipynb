{
 "cells": [
  {
   "cell_type": "code",
   "execution_count": null,
   "metadata": {},
   "outputs": [],
   "source": [
    "import numpy as np\n",
    "import os\n",
    "os.environ[\"TF_CPP_MIN_LOG_LEVEL\"] = \"1\"\n",
    "os.environ[\"AUTOGRAPH_VERBOSITY\"] = \"1\"\n",
    "\n",
    "# Set up logger\n",
    "import logging\n",
    "logger = logging.getLogger()\n",
    "logger.handlers = []\n",
    "ch = logging.StreamHandler()\n",
    "formatter = logging.Formatter(\n",
    "    fmt=\"%(asctime)s (%(levelname)s): %(message)s\", datefmt=\"%Y-%m-%d %H:%M:%S\"\n",
    ")\n",
    "ch.setFormatter(formatter)\n",
    "logger.addHandler(ch)\n",
    "logger.setLevel(\"INFO\")\n",
    "\n",
    "import tensorflow as tf\n",
    "# TensorFlow logging verbosity\n",
    "tf.get_logger().setLevel(\"WARN\")\n",
    "tf.autograph.set_verbosity(1)\n",
    "\n",
    "# GemNet imports\n",
    "from gemnet.model.gemnet import GemNet\n",
    "from gemnet.training.data_container import DataContainer\n"
   ]
  },
  {
   "cell_type": "markdown",
   "metadata": {},
   "source": [
    "# Custom molecule class to use molecules from ase"
   ]
  },
  {
   "cell_type": "code",
   "execution_count": null,
   "metadata": {},
   "outputs": [],
   "source": [
    "class Molecule(DataContainer):\n",
    "    \"\"\"\n",
    "    Implements the DataContainer but for a single molecule. Requires custom init method.\n",
    "    \"\"\"\n",
    "    def __init__(self, R, Z, cutoff, int_cutoff, triplets_only=False):\n",
    "        self.index_keys = [\n",
    "            \"batch_seg\",\n",
    "            \"id_undir\",\n",
    "            \"id_swap\",\n",
    "            \"id_c\",\n",
    "            \"id_a\",\n",
    "            \"id3_expand_ba\",\n",
    "            \"id3_reduce_ca\",\n",
    "            \"Kidx3\",\n",
    "        ]\n",
    "        if not triplets_only:\n",
    "            self.index_keys += [\n",
    "                \"id4_int_b\",\n",
    "                \"id4_int_a\",\n",
    "                \"id4_reduce_ca\",\n",
    "                \"id4_expand_db\",\n",
    "                \"id4_reduce_cab\",\n",
    "                \"id4_expand_abd\",\n",
    "                \"Kidx4\",\n",
    "                \"id4_reduce_intm_ca\",\n",
    "                \"id4_expand_intm_db\",\n",
    "                \"id4_reduce_intm_ab\",\n",
    "                \"id4_expand_intm_ab\",\n",
    "            ]\n",
    "        self.triplets_only = triplets_only\n",
    "        self.cutoff = cutoff\n",
    "        self.int_cutoff = int_cutoff\n",
    "        self.keys = [\"N\", \"Z\", \"R\", \"F\", \"E\"]\n",
    "\n",
    "        assert R.shape == (len(Z), 3)\n",
    "        self.R = R\n",
    "        self.Z = Z\n",
    "        self.N = np.array([len(Z)], dtype=np.int32)\n",
    "        self.E = np.zeros(1, dtype=np.float32).reshape(1, 1)\n",
    "        self.F = np.zeros((len(Z), 3), dtype=np.float32)\n",
    "\n",
    "        self.N_cumsum = np.concatenate([[0], np.cumsum(self.N)])\n",
    "        self.addID = False\n",
    "        self.dtypes, dtypes2 = self.get_dtypes()\n",
    "        self.dtypes.update(dtypes2)  # merge all dtypes in single dict\n",
    "\n",
    "    def get(self):\n",
    "        \"\"\"\n",
    "        Get the molecule representation in the expected format for the GemNet model.\n",
    "        \"\"\"\n",
    "        data = self.__getitem__(0)\n",
    "        for var in [\"E\", \"F\"]:\n",
    "            data.pop(var)  # not needed i.e.e not kown -> want to calculate this\n",
    "        return data"
   ]
  },
  {
   "cell_type": "markdown",
   "metadata": {},
   "source": [
    "# Setup the model and the data"
   ]
  },
  {
   "cell_type": "code",
   "execution_count": null,
   "metadata": {},
   "outputs": [],
   "source": [
    "# Model setup\r\n",
    "scale_file = \"./scaling_factors.json\"\r\n",
    "tf_weights_file = \"./pretrained/best/ckpt\"\r\n",
    "# depends on GemNet model that is loaded\r\n",
    "triplets_only = False\r\n",
    "direct_forces = False\r\n",
    "cutoff = 5.0\r\n",
    "int_cutoff = 10.0\r\n",
    "\r\n",
    "# Data setup\r\n",
    "from ase.build import molecule as ase_molecule_db\r\n",
    "\r\n",
    "mol = ase_molecule_db('C7NH5')\r\n",
    "R   = mol.get_positions()\r\n",
    "Z   = mol.get_atomic_numbers()\r\n",
    "\r\n",
    "molecule = Molecule(\r\n",
    "    R, Z, cutoff=cutoff, int_cutoff=int_cutoff, triplets_only=triplets_only\r\n",
    ")"
   ]
  },
  {
   "cell_type": "code",
   "execution_count": null,
   "metadata": {},
   "outputs": [],
   "source": [
    "# tf.config.experimental_run_functions_eagerly(True) # uncomment to run in eager mode\n",
    "\n",
    "model = GemNet(\n",
    "    num_spherical=7,\n",
    "    num_radial=6,\n",
    "    num_blocks=4,\n",
    "    emb_size_atom=128,\n",
    "    emb_size_edge=128,\n",
    "    emb_size_trip=64,\n",
    "    emb_size_quad=32,\n",
    "    emb_size_rbf=16,\n",
    "    emb_size_cbf=16,\n",
    "    emb_size_sbf=32,\n",
    "    emb_size_bil_trip=64,\n",
    "    emb_size_bil_quad=32,\n",
    "    num_before_skip=1,\n",
    "    num_after_skip=1,\n",
    "    num_concat=1,\n",
    "    num_atom=2,\n",
    "    num_targets=1,\n",
    "    cutoff=cutoff,\n",
    "    int_cutoff=int_cutoff,  # no effect for GemNet-(d)T\n",
    "    scale_file=scale_file,\n",
    "    triplets_only=triplets_only,\n",
    "    direct_forces=direct_forces,\n",
    ")\n",
    "model.load_weights(tf_weights_file)"
   ]
  },
  {
   "cell_type": "markdown",
   "metadata": {},
   "source": [
    "# Run the model"
   ]
  },
  {
   "cell_type": "code",
   "execution_count": null,
   "metadata": {},
   "outputs": [],
   "source": [
    "energy, forces = model.predict(molecule.get())\n",
    "\n",
    "print(\"Energy [eV]\", energy)\n",
    "print(\"Forces [eV/°A]\", forces)"
   ]
  },
  {
   "cell_type": "code",
   "execution_count": null,
   "metadata": {},
   "outputs": [],
   "source": []
  }
 ],
 "metadata": {
  "interpreter": {
   "hash": "f112dac50dffddb907e949235cd15d652f0ab7a4db04fc8acd9bbd8dbb8fc06f"
  },
  "kernelspec": {
   "display_name": "Python 3.8.0 64-bit",
   "name": "python3"
  },
  "language_info": {
   "name": "python",
   "version": ""
  }
 },
 "nbformat": 4,
 "nbformat_minor": 2
}
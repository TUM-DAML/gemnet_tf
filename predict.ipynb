{
 "cells": [
  {
   "cell_type": "code",
   "execution_count": null,
   "metadata": {},
   "outputs": [],
   "source": [
    "import numpy as np\r\n",
    "import os\r\n",
    "os.environ[\"TF_CPP_MIN_LOG_LEVEL\"] = \"1\"\r\n",
    "os.environ[\"AUTOGRAPH_VERBOSITY\"] = \"1\"\r\n",
    "\r\n",
    "# Set up logger\r\n",
    "import logging\r\n",
    "logger = logging.getLogger()\r\n",
    "logger.handlers = []\r\n",
    "ch = logging.StreamHandler()\r\n",
    "formatter = logging.Formatter(\r\n",
    "    fmt=\"%(asctime)s (%(levelname)s): %(message)s\", datefmt=\"%Y-%m-%d %H:%M:%S\"\r\n",
    ")\r\n",
    "ch.setFormatter(formatter)\r\n",
    "logger.addHandler(ch)\r\n",
    "logger.setLevel(\"INFO\")\r\n",
    "\r\n",
    "import tensorflow as tf\r\n",
    "# TensorFlow logging verbosity\r\n",
    "tf.get_logger().setLevel(\"WARN\")\r\n",
    "tf.autograph.set_verbosity(1)\r\n",
    "\r\n",
    "# GemNet imports\r\n",
    "from gemnet.model.gemnet import GemNet\r\n",
    "from gemnet.training.data_container import DataContainer\r\n"
   ]
  },
  {
   "cell_type": "markdown",
   "metadata": {},
   "source": [
    "# Custom molecule class to use molecules from ase"
   ]
  },
  {
   "cell_type": "code",
   "execution_count": null,
   "metadata": {},
   "outputs": [],
   "source": [
    "class Molecule(DataContainer):\r\n",
    "    \"\"\"\r\n",
    "    Implements the DataContainer but for a single molecule. Requires custom init method.\r\n",
    "    \"\"\"\r\n",
    "    def __init__(self, R, Z, cutoff, int_cutoff, triplets_only=False):\r\n",
    "        self.index_keys = [\r\n",
    "            \"batch_seg\",\r\n",
    "            \"id_undir\",\r\n",
    "            \"id_swap\",\r\n",
    "            \"id_c\",\r\n",
    "            \"id_a\",\r\n",
    "            \"id3_expand_ba\",\r\n",
    "            \"id3_reduce_ca\",\r\n",
    "            \"Kidx3\",\r\n",
    "        ]\r\n",
    "        if not triplets_only:\r\n",
    "            self.index_keys += [\r\n",
    "                \"id4_int_b\",\r\n",
    "                \"id4_int_a\",\r\n",
    "                \"id4_reduce_ca\",\r\n",
    "                \"id4_expand_db\",\r\n",
    "                \"id4_reduce_cab\",\r\n",
    "                \"id4_expand_abd\",\r\n",
    "                \"Kidx4\",\r\n",
    "                \"id4_reduce_intm_ca\",\r\n",
    "                \"id4_expand_intm_db\",\r\n",
    "                \"id4_reduce_intm_ab\",\r\n",
    "                \"id4_expand_intm_ab\",\r\n",
    "            ]\r\n",
    "        self.triplets_only = triplets_only\r\n",
    "        self.cutoff = cutoff\r\n",
    "        self.int_cutoff = int_cutoff\r\n",
    "        self.keys = [\"N\", \"Z\", \"R\", \"F\", \"E\"]\r\n",
    "\r\n",
    "        assert R.shape == (len(Z), 3)\r\n",
    "        self.R = R\r\n",
    "        self.Z = Z\r\n",
    "        self.N = np.array([len(Z)], dtype=np.int32)\r\n",
    "        self.E = np.zeros(1, dtype=np.float32).reshape(1, 1)\r\n",
    "        self.F = np.zeros((len(Z), 3), dtype=np.float32)\r\n",
    "\r\n",
    "        self.N_cumsum = np.concatenate([[0], np.cumsum(self.N)])\r\n",
    "        self.addID = False\r\n",
    "        self.dtypes, dtypes2 = self.get_dtypes()\r\n",
    "        self.dtypes.update(dtypes2)  # merge all dtypes in single dict\r\n",
    "\r\n",
    "    def get(self):\r\n",
    "        \"\"\"\r\n",
    "        Get the molecule representation in the expected format for the GemNet model.\r\n",
    "        \"\"\"\r\n",
    "        data = self.__getitem__(0)\r\n",
    "        for var in [\"E\", \"F\"]:\r\n",
    "            data.pop(var)  # not needed i.e.e not kown -> want to calculate this\r\n",
    "        return data"
   ]
  },
  {
   "cell_type": "markdown",
   "metadata": {},
   "source": [
    "# Setup the model and the data"
   ]
  },
  {
   "cell_type": "code",
   "execution_count": null,
   "metadata": {},
   "outputs": [],
   "source": [
    "# Model setup\r\n",
    "scale_file = \"/nfs/homedirs/beckerf/gemnet_tf/scaling_factors.json\"\r\n",
    "tf_weights_file = \"/nfs/homedirs/beckerf/gemnet_tf/pretrained/best/ckpt/\"\r\n",
    "# depends on GemNet model that is loaded\r\n",
    "triplets_only = False\r\n",
    "direct_forces = False\r\n",
    "cutoff = 5.0\r\n",
    "int_cutoff = 10.0\r\n",
    "\r\n",
    "# Data setup\r\n",
    "from ase.build import molecule as ase_molecule_db\r\n",
    "\r\n",
    "mol = ase_molecule_db('C7NH5')\r\n",
    "R   = mol.get_positions()\r\n",
    "Z   = mol.get_atomic_numbers()\r\n",
    "\r\n",
    "molecule = Molecule(\r\n",
    "    R, Z, cutoff=cutoff, int_cutoff=int_cutoff, triplets_only=triplets_only\r\n",
    ")"
   ]
  },
  {
   "cell_type": "code",
   "execution_count": null,
   "metadata": {},
   "outputs": [],
   "source": [
    "# tf.config.experimental_run_functions_eagerly(True) # uncomment to run in eager mode\r\n",
    "\r\n",
    "model = GemNet(\r\n",
    "    num_spherical=7,\r\n",
    "    num_radial=6,\r\n",
    "    num_blocks=4,\r\n",
    "    emb_size_atom=128,\r\n",
    "    emb_size_edge=128,\r\n",
    "    emb_size_trip=64,\r\n",
    "    emb_size_quad=32,\r\n",
    "    emb_size_rbf=16,\r\n",
    "    emb_size_cbf=16,\r\n",
    "    emb_size_sbf=32,\r\n",
    "    emb_size_bil_trip=64,\r\n",
    "    emb_size_bil_quad=32,\r\n",
    "    num_before_skip=1,\r\n",
    "    num_after_skip=1,\r\n",
    "    num_concat=1,\r\n",
    "    num_atom=2,\r\n",
    "    num_targets=1,\r\n",
    "    cutoff=cutoff,\r\n",
    "    int_cutoff=int_cutoff,  # no effect for GemNet-(d)T\r\n",
    "    scale_file=scale_file,\r\n",
    "    triplets_only=triplets_only,\r\n",
    "    direct_forces=direct_forces,\r\n",
    ")\r\n",
    "model.load_weights(tf_weights_file)"
   ]
  },
  {
   "cell_type": "markdown",
   "metadata": {},
   "source": [
    "# Run the model"
   ]
  },
  {
   "cell_type": "code",
   "execution_count": null,
   "metadata": {},
   "outputs": [],
   "source": [
    "energy, forces = model.predict(molecule.get())\r\n",
    "\r\n",
    "print(\"Energy [eV]\", energy)\r\n",
    "print(\"Forces [eV/°A]\", forces)"
   ]
  }
 ],
 "metadata": {
  "interpreter": {
   "hash": "6d9d58ddb04bb635eba824a3c64b6d0110bcc4c6cff8b192a6f7cbbb2bf10de4"
  },
  "kernelspec": {
   "display_name": "Python 3.5.4 64-bit",
   "name": "python3"
  },
  "language_info": {
   "name": "python",
   "version": ""
  },
  "orig_nbformat": 4
 },
 "nbformat": 4,
 "nbformat_minor": 2
}